{
 "cells": [
  {
   "cell_type": "code",
   "execution_count": 11,
   "id": "e3573e13",
   "metadata": {},
   "outputs": [],
   "source": [
    "from pyteomics import fasta\n",
    "from os import path, listdir\n",
    "import os\n",
    "import pickle\n",
    "from collections import Counter"
   ]
  },
  {
   "cell_type": "code",
   "execution_count": null,
   "id": "98cd8b42-6987-47c5-9689-d9cf94e440f2",
   "metadata": {},
   "outputs": [],
   "source": [
    "!biosaur"
   ]
  },
  {
   "cell_type": "code",
   "execution_count": 5,
   "id": "81432f79-b6c2-4adb-92a7-790758f8e390",
   "metadata": {
    "tags": []
   },
   "outputs": [
    {
     "name": "stdout",
     "output_type": "stream",
     "text": [
      "Defaulting to user installation because normal site-packages is not writeable\n",
      "Collecting ete3\n",
      "  Downloading ete3-3.1.3.tar.gz (4.8 MB)\n",
      "\u001b[2K     \u001b[90m━━━━━━━━━━━━━━━━━━━━━━━━━━━━━━━━━━━━━━━━\u001b[0m \u001b[32m4.8/4.8 MB\u001b[0m \u001b[31m8.2 MB/s\u001b[0m eta \u001b[36m0:00:00\u001b[0m00:01\u001b[0m00:01\u001b[0m\n",
      "\u001b[?25h  Preparing metadata (setup.py) ... \u001b[?25ldone\n",
      "\u001b[?25hBuilding wheels for collected packages: ete3\n",
      "  Building wheel for ete3 (setup.py) ... \u001b[?25ldone\n",
      "\u001b[?25h  Created wheel for ete3: filename=ete3-3.1.3-py3-none-any.whl size=2273785 sha256=ec0ba674a15559f455f7593f91fbfb87d3ca05e3ce6347a0865fe04ada6ea359\n",
      "  Stored in directory: /home/lerost/.cache/pip/wheels/e0/90/21/70d48deb2c8017a28d4fb5fc7bcc0a6954c4e967ef5eea88c8\n",
      "Successfully built ete3\n",
      "Installing collected packages: ete3\n",
      "\u001b[33m  WARNING: The script ete3 is installed in '/home/lerost/.local/bin' which is not on PATH.\n",
      "  Consider adding this directory to PATH or, if you prefer to suppress this warning, use --no-warn-script-location.\u001b[0m\u001b[33m\n",
      "\u001b[0mSuccessfully installed ete3-3.1.3\n"
     ]
    }
   ],
   "source": [
    "!pip install ete3"
   ]
  },
  {
   "cell_type": "code",
   "execution_count": 61,
   "id": "afe99a76",
   "metadata": {},
   "outputs": [],
   "source": [
    "from ete3 import NCBITaxa\n",
    "ncbi = NCBITaxa()\n",
    "import operator"
   ]
  },
  {
   "cell_type": "code",
   "execution_count": 7,
   "id": "dae49515",
   "metadata": {},
   "outputs": [],
   "source": [
    "path_to_uniprot = '/home/fasta/uniprot_bacteria.fasta'\n",
    "path_to_uniprot_dbs = '/home/kae-13-1/fasta/bacts_bases_uniprot/'\n",
    "path_to_swissprot_dbs = '/home/kae-13-1/fasta/bacts_bases_sprot/'"
   ]
  },
  {
   "cell_type": "markdown",
   "id": "8fc908e4",
   "metadata": {},
   "source": [
    "# I. Creating organism-specific databases"
   ]
  },
  {
   "cell_type": "markdown",
   "id": "d107cedd",
   "metadata": {},
   "source": [
    "## Swiss-Prot + TrEMBL"
   ]
  },
  {
   "cell_type": "code",
   "execution_count": null,
   "id": "5e05ebc1",
   "metadata": {},
   "outputs": [],
   "source": [
    "%%time\n",
    "uniprot_taxid_set = set()\n",
    "for p in fasta.read(path_to_uniprot):\n",
    "    spec_i = p[0].split('OX=')[-1].split(' ')[0]\n",
    "    fasta.write([(p[0], p[1])], output = path.join(path_to_uniprot_dbs, '{}.fasta'.format(spec_i)),\n",
    "                    file_mode = 'a')\n",
    "    if spec_i not in uniprot_taxid_set:\n",
    "        uniprot_taxid_set.update([int(spec_i)])"
   ]
  },
  {
   "cell_type": "markdown",
   "id": "b01b98e1",
   "metadata": {},
   "source": [
    "## Swiss-Prot"
   ]
  },
  {
   "cell_type": "code",
   "execution_count": 8,
   "id": "94f1bad6",
   "metadata": {
    "collapsed": true,
    "jupyter": {
     "outputs_hidden": true
    },
    "tags": []
   },
   "outputs": [
    {
     "ename": "KeyboardInterrupt",
     "evalue": "",
     "output_type": "error",
     "traceback": [
      "\u001b[0;31m---------------------------------------------------------------------------\u001b[0m",
      "\u001b[0;31mKeyboardInterrupt\u001b[0m                         Traceback (most recent call last)",
      "File \u001b[0;32m<timed exec>:2\u001b[0m\n",
      "File \u001b[0;32m~/.local/lib/python3.10/site-packages/pyteomics/auxiliary/file_helpers.py:178\u001b[0m, in \u001b[0;36mIteratorContextManager.__next__\u001b[0;34m(self)\u001b[0m\n\u001b[1;32m    176\u001b[0m \u001b[38;5;28;01mdef\u001b[39;00m \u001b[38;5;21m__next__\u001b[39m(\u001b[38;5;28mself\u001b[39m):\n\u001b[1;32m    177\u001b[0m     \u001b[38;5;66;03m# try:\u001b[39;00m\n\u001b[0;32m--> 178\u001b[0m     \u001b[38;5;28;01mreturn\u001b[39;00m \u001b[38;5;28;43mnext\u001b[39;49m\u001b[43m(\u001b[49m\u001b[38;5;28;43mself\u001b[39;49m\u001b[38;5;241;43m.\u001b[39;49m\u001b[43m_reader\u001b[49m\u001b[43m)\u001b[49m\n",
      "File \u001b[0;32m~/.local/lib/python3.10/site-packages/pyteomics/fasta.py:180\u001b[0m, in \u001b[0;36mFASTA._read\u001b[0;34m(self)\u001b[0m\n\u001b[1;32m    178\u001b[0m \u001b[38;5;66;03m# Iterate through '>' after the file is over to retrieve the last entry.\u001b[39;00m\n\u001b[1;32m    179\u001b[0m \u001b[38;5;28;01mfor\u001b[39;00m string \u001b[38;5;129;01min\u001b[39;00m itertools\u001b[38;5;241m.\u001b[39mchain(\u001b[38;5;28mself\u001b[39m\u001b[38;5;241m.\u001b[39m_source, \u001b[38;5;124m'\u001b[39m\u001b[38;5;124m>\u001b[39m\u001b[38;5;124m'\u001b[39m):\n\u001b[0;32m--> 180\u001b[0m     stripped_string \u001b[38;5;241m=\u001b[39m \u001b[43mstring\u001b[49m\u001b[38;5;241;43m.\u001b[39;49m\u001b[43mstrip\u001b[49m\u001b[43m(\u001b[49m\u001b[43m)\u001b[49m\n\u001b[1;32m    182\u001b[0m     \u001b[38;5;66;03m# Skip empty lines.\u001b[39;00m\n\u001b[1;32m    183\u001b[0m     \u001b[38;5;28;01mif\u001b[39;00m \u001b[38;5;129;01mnot\u001b[39;00m stripped_string:\n",
      "\u001b[0;31mKeyboardInterrupt\u001b[0m: "
     ]
    }
   ],
   "source": [
    "%%time\n",
    "swissprot_taxid_set = set()\n",
    "for p in fasta.read(path_to_uniprot):\n",
    "    if p[0].startswith('sp'):\n",
    "        spec_i = p[0].split('OX=')[-1].split(' ')[0]\n",
    "        # fasta.write([(p[0], p[1])], output = path.join(path_to_swissprot_dbs, '{}.fasta'.format(spec_i)),\n",
    "        fasta.write([(p[0], p[1])], output = path.join('/home/lerost/Metaproteomics-DirectMS1/Metaproteomics-DirectMS1_close_rep/tmp/', '{}.fasta'.format(spec_i)),\n",
    "                        file_mode = 'a')\n",
    "        if spec_i not in swissprot_taxid_set:\n",
    "            swissprot_taxid_set.update([int(spec_i)])"
   ]
  },
  {
   "cell_type": "markdown",
   "id": "42bc4b47",
   "metadata": {},
   "source": [
    "CPU times: user 6min 6s, sys: 15.4 s, total: 6min 22s\n",
    "\n",
    "Wall time: 6min 17s"
   ]
  },
  {
   "cell_type": "code",
   "execution_count": 9,
   "id": "063ae629-b1c2-41a9-ba99-40e6658f4f64",
   "metadata": {
    "tags": []
   },
   "outputs": [
    {
     "name": "stdout",
     "output_type": "stream",
     "text": [
      "196620\n"
     ]
    }
   ],
   "source": [
    "for el in list(swissprot_taxid_set) :\n",
    "    print(el)\n",
    "    break"
   ]
  },
  {
   "cell_type": "code",
   "execution_count": 10,
   "id": "07a9d55f-c5d6-4f01-b78f-38c11e235cf5",
   "metadata": {
    "tags": []
   },
   "outputs": [
    {
     "name": "stdout",
     "output_type": "stream",
     "text": [
      "sp|Q1RHU4|PYRG_RICBR CTP synthase OS=Rickettsia bellii (strain RML369-C) OX=336407 GN=pyrG PE=3 SV=1\n",
      "MVRFIFITGGVVSSLGKGLTAASLAMLLQAKGFKVCLRKLDPYLNVDPGTMNPHQHGEVYVTDDGAETDLDLGHYERFTGVPACKFDNITTGAVYSKLLKEERLGNYTGLTVQVIPHVTNIIKDFILSNTKGFDFVLCEIGGTVGDIEGLPFFEAIRQIGNELKSKQCLFIHLTLLPYVKTARELKTKPTQHSVKELRTIGISPNILVCRAERKIAKSEIEKIALFCNIDPEYVIPAIDQKNIYLVPLAYHDYGLDNKVLKFFNLTIAPSKLNRWHDIIERLKESHSKVRIAIIAKYHKLKDAYKSVIEALDHAGIYHKYKVDLVWINAENVTNENISKKLLGVDGILVPGGFGERATEGKILAVNYARTNNIPFFGICLGMQLAAIEIARNLVGLKDAVTEEFKTAGTKIIERISKHDEDFNPSDITIENIKKTMRLGSYTCNLVSDSITANAYGELKISERHRHRYKFNNDFQDIFEKNGVKFSGFSEDKKIVEAIELPKLLWFVGVQFHPEFKSKPFEAHPLFIRFVEAAIKYNKNN\n",
      "336407\n",
      "{336407}\n"
     ]
    }
   ],
   "source": [
    "swissprot_taxid_set = set()\n",
    "for p in fasta.read(path_to_uniprot):\n",
    "    if p[0].startswith('sp'):\n",
    "        spec_i = p[0].split('OX=')[-1].split(' ')[0]\n",
    "        print(p[0])\n",
    "        print(p[1])\n",
    "        print(spec_i)\n",
    "    if spec_i not in swissprot_taxid_set:\n",
    "        swissprot_taxid_set.update([int(spec_i)])\n",
    "        print(swissprot_taxid_set)\n",
    "        break"
   ]
  },
  {
   "cell_type": "markdown",
   "id": "d06546db",
   "metadata": {},
   "source": [
    "## Calculating number of proteins in databases"
   ]
  },
  {
   "cell_type": "code",
   "execution_count": null,
   "id": "2f5e02fe",
   "metadata": {},
   "outputs": [],
   "source": [
    "%%time\n",
    "len_fasta_uniprot = {}\n",
    "for i in uniprot_taxid_set:\n",
    "    file = path.join(path_to_uniprot_dbs, '{}.fasta'.format(i))\n",
    "    # For Windows\n",
    "    if os.name == 'nt':\n",
    "        n = sum(1 for _ in fasta.read(file))\n",
    "    # For Linux\n",
    "    else:\n",
    "        n = !grep -o 'OX=' $file | wc -l\n",
    "    len_fasta_uniprot[i] = int(n[0])"
   ]
  },
  {
   "cell_type": "code",
   "execution_count": 12,
   "id": "744156b0-daf7-4844-a924-f3d25424e66c",
   "metadata": {
    "tags": []
   },
   "outputs": [],
   "source": [
    "fasta_path = '/home/lerost/Metaproteomics-DirectMS1/Metaproteomics-DirectMS1_close_rep/tmp/100226.fasta'"
   ]
  },
  {
   "cell_type": "code",
   "execution_count": 44,
   "id": "4361532b-1d69-415e-82da-3016891a4b13",
   "metadata": {
    "tags": []
   },
   "outputs": [
    {
     "name": "stdout",
     "output_type": "stream",
     "text": [
      "CPU times: user 9.35 ms, sys: 0 ns, total: 9.35 ms\n",
      "Wall time: 8.78 ms\n"
     ]
    }
   ],
   "source": [
    "%%time\n",
    "n = sum(1 for _ in fasta.read(fasta_path))"
   ]
  },
  {
   "cell_type": "code",
   "execution_count": 45,
   "id": "a69d4a72-70e2-4427-885a-8eb2398bbb6a",
   "metadata": {
    "tags": []
   },
   "outputs": [
    {
     "name": "stdout",
     "output_type": "stream",
     "text": [
      "804\n"
     ]
    }
   ],
   "source": [
    "print(n)"
   ]
  },
  {
   "cell_type": "code",
   "execution_count": 60,
   "id": "a734e94c-daa3-437b-9d2f-000e5a697466",
   "metadata": {
    "tags": []
   },
   "outputs": [
    {
     "name": "stdout",
     "output_type": "stream",
     "text": [
      "CPU times: user 1.09 ms, sys: 3.07 ms, total: 4.16 ms\n",
      "Wall time: 19.4 ms\n"
     ]
    }
   ],
   "source": [
    "%%time\n",
    "n = !grep -o 'OX=' $fasta_path | wc -l"
   ]
  },
  {
   "cell_type": "code",
   "execution_count": 47,
   "id": "4955e374-09f1-4ee1-984a-72b10b19a326",
   "metadata": {
    "tags": []
   },
   "outputs": [
    {
     "name": "stdout",
     "output_type": "stream",
     "text": [
      "['804']\n"
     ]
    }
   ],
   "source": [
    "print(n)"
   ]
  },
  {
   "cell_type": "code",
   "execution_count": null,
   "id": "eb0fda1e",
   "metadata": {},
   "outputs": [],
   "source": [
    "%%time\n",
    "len_fasta_sprot = {}\n",
    "for i in swissprot_taxid_set:\n",
    "    file = path.join(path_to_swissprot_dbs, '{}.fasta'.format(i))\n",
    "    # For Windows\n",
    "    if os.name == 'nt':\n",
    "        n = sum(1 for _ in fasta.read(file))\n",
    "    # For Linux\n",
    "    else:\n",
    "        n = !grep -o 'OX=' $file | wc -l\n",
    "    len_fasta_sprot[i] = int(n[0])"
   ]
  },
  {
   "cell_type": "code",
   "execution_count": null,
   "id": "be2b3bec",
   "metadata": {},
   "outputs": [],
   "source": [
    "path_to_len_uniprot = ''\n",
    "path_to_len_swissprot = ''\n",
    "\n",
    "pickle.dump(len_fasta_sprot, \n",
    "            open(path_to_len_swissprot, 'wb'), \n",
    "            protocol=pickle.HIGHEST_PROTOCOL)\n",
    "pickle.dump(len_fasta_uniprot, \n",
    "            open(path_to_len_uniprot, 'wb'), \n",
    "            protocol=pickle.HIGHEST_PROTOCOL)"
   ]
  },
  {
   "cell_type": "markdown",
   "id": "09e618c9",
   "metadata": {},
   "source": [
    "# II. Creating species:descendants dictionary"
   ]
  },
  {
   "cell_type": "code",
   "execution_count": null,
   "id": "9dc67f17",
   "metadata": {},
   "outputs": [],
   "source": [
    "%%time\n",
    "allowed_ranks = ('strain', 'subspecies', 'forma specialis', 'isolate', 'serotype', 'serogroup')\n",
    "\n",
    "species_descendants = {}\n",
    "used = set()\n",
    "\n",
    "for i in taxid_set:\n",
    "    if i not in used:\n",
    "        rank = ncbi.get_rank([i])\n",
    "        if rank:\n",
    "            if rank[i] == 'species' :\n",
    "                descendants = ncbi.get_descendant_taxa(i) + [i]\n",
    "                descendants = [j for j in descendants if j in taxid_set]\n",
    "                species_descendants[i] = set(descendants)\n",
    "                used.update(descendants)\n",
    "            elif rank[int(i)] in allowed_ranks:\n",
    "                lineage = ncbi.get_lineage(i)\n",
    "                ranks = ncbi.get_rank(lineage)\n",
    "                species = [k for k in ranks.keys() if ranks[k] == 'species'][0]\n",
    "                \n",
    "                descendants = ncbi.get_descendant_taxa(species) + [species]\n",
    "                descendants = [j for j in descendants if j in taxid_set]\n",
    "                species_descendants[species] = set(descendants)\n",
    "                used.update(descendants)"
   ]
  },
  {
   "cell_type": "code",
   "execution_count": 65,
   "id": "b43f6316-0f8d-4fe6-bcbd-f54e950cf9b6",
   "metadata": {
    "tags": []
   },
   "outputs": [
    {
     "name": "stdout",
     "output_type": "stream",
     "text": [
      "CPU times: user 150 ms, sys: 41.1 ms, total: 191 ms\n",
      "Wall time: 166 ms\n"
     ]
    }
   ],
   "source": [
    "%%time\n",
    "taxid_set = set([100226])\n",
    "allowed_ranks = ('strain', 'subspecies', 'forma specialis', 'isolate', 'serotype', 'serogroup')\n",
    "\n",
    "species_descendants = {}\n",
    "used = set()\n",
    "\n",
    "for i in taxid_set:\n",
    "    if i not in used:\n",
    "        rank = ncbi.get_rank([i])\n",
    "        if rank:\n",
    "            if rank[i] == 'species' :\n",
    "                descendants = ncbi.get_descendant_taxa(i) + [i]\n",
    "                descendants = [j for j in descendants if j in taxid_set]\n",
    "                species_descendants[i] = set(descendants)\n",
    "                used.update(descendants)\n",
    "            elif rank[int(i)] in allowed_ranks:\n",
    "                lineage = ncbi.get_lineage(i)\n",
    "                ranks = ncbi.get_rank(lineage)\n",
    "                species = [k for k in ranks.keys() if ranks[k] == 'species'][0]\n",
    "                descendants = ncbi.get_descendant_taxa(species) + [species]\n",
    "                descendants = [j for j in descendants if j in taxid_set]\n",
    "                species_descendants[species] = set(descendants)\n",
    "                used.update(descendants)"
   ]
  },
  {
   "cell_type": "code",
   "execution_count": 72,
   "id": "c5ed6ae6-230d-4e38-b058-c821acac46c2",
   "metadata": {
    "tags": []
   },
   "outputs": [
    {
     "name": "stdout",
     "output_type": "stream",
     "text": [
      "{100226: 'strain'}\n",
      "[100226, 1902]\n",
      "{1902: {100226}}\n",
      "{100226}\n",
      "[1, 131567, 2, 1783272, 201174, 1760, 85011, 2062, 1883, 1477431, 1902, 100226]\n",
      "{1: 'no rank', 2: 'superkingdom', 1760: 'class', 1883: 'genus', 1902: 'species', 2062: 'family', 85011: 'order', 100226: 'strain', 131567: 'no rank', 201174: 'phylum', 1477431: 'species group', 1783272: 'clade'}\n",
      "1902\n"
     ]
    }
   ],
   "source": [
    "# i = 100226\n",
    "# rank = ncbi.get_rank([i])\n",
    "print(rank)\n",
    "print(ncbi.get_descendant_taxa(species) + [species])\n",
    "print(species_descendants)\n",
    "print(used)\n",
    "print(lineage)\n",
    "print(ranks)\n",
    "print(species)"
   ]
  },
  {
   "cell_type": "markdown",
   "id": "53963765",
   "metadata": {},
   "source": [
    "CPU times: user 10h 11s, sys: 1h 56min 50s, total: 11h 57min 2s\n",
    "\n",
    "Wall time: 11h 58min 20s"
   ]
  },
  {
   "cell_type": "code",
   "execution_count": null,
   "id": "1dbf563a",
   "metadata": {},
   "outputs": [],
   "source": [
    "path_to_species_descendants = ''\n",
    "pickle.dump(species_descendants, \n",
    "            open(path_to_species_descendants, 'wb'), \n",
    "            protocol=pickle.HIGHEST_PROTOCOL)"
   ]
  },
  {
   "cell_type": "markdown",
   "id": "7511dad2",
   "metadata": {},
   "source": [
    "# III. Choosing group leaders"
   ]
  },
  {
   "cell_type": "markdown",
   "id": "ef2292e5",
   "metadata": {},
   "source": [
    "## Swiss-Prot + TrEMBL"
   ]
  },
  {
   "cell_type": "code",
   "execution_count": null,
   "id": "0f59335e",
   "metadata": {},
   "outputs": [],
   "source": [
    "%%time\n",
    "species_leader_uniprot = {}\n",
    "\n",
    "for i in species_descendants.keys():\n",
    "    strains = species_des_dict[i]\n",
    "    lens = {j:len_fasta_uniprot[j] for j in strains} \n",
    "    if len(lens) == 0:\n",
    "        continue\n",
    "    else:\n",
    "        lead = max(lens.items(), key=operator.itemgetter(1))[0]\n",
    "        species_leader_uniprot[i] = lead"
   ]
  },
  {
   "cell_type": "markdown",
   "id": "66a4ce9b",
   "metadata": {},
   "source": [
    "## Swiss-Prot"
   ]
  },
  {
   "cell_type": "code",
   "execution_count": 94,
   "id": "66b63bb5",
   "metadata": {},
   "outputs": [
    {
     "name": "stdout",
     "output_type": "stream",
     "text": [
      "CPU times: user 28.4 s, sys: 1min 14s, total: 1min 42s\n",
      "Wall time: 1min 42s\n"
     ]
    }
   ],
   "source": [
    "%%time\n",
    "species_leader_sprot = {}\n",
    "for i in species_descendants.keys():\n",
    "    strains = species_des_dict[i]\n",
    "    strains = [i for i in strains if i in swissprot_taxid_set]\n",
    "    lens = {j:len_fasta_sprot[j] for j in strains}\n",
    "    if len(lens) == 0:\n",
    "        continue\n",
    "    else:\n",
    "        lead = max(lens.items(), key=operator.itemgetter(1))[0]\n",
    "        species_leader_sprot[i] = lead"
   ]
  },
  {
   "cell_type": "code",
   "execution_count": null,
   "id": "55391fa5",
   "metadata": {},
   "outputs": [],
   "source": [
    "path_to_leaders_uniprot = ''\n",
    "path_to_leaders_swissprot = ''\n",
    "pickle.dump(species_leader_uniprot, \n",
    "            open(path_to_leaders_uniprot, 'wb'), \n",
    "            protocol=pickle.HIGHEST_PROTOCOL)\n",
    "pickle.dump(species_leader_sprot, \n",
    "            open(path_to_leaders_swissprot, 'wb'), \n",
    "            protocol=pickle.HIGHEST_PROTOCOL)"
   ]
  },
  {
   "cell_type": "code",
   "execution_count": 116,
   "id": "2fe8e4db-0b30-4fbb-aaed-d41af8f85dc9",
   "metadata": {
    "tags": []
   },
   "outputs": [],
   "source": [
    "lens = {'a':10, 'b':5, 'c':60, 'd':100, 'e':15, 'f':50, 'g':55, 'h':54}"
   ]
  },
  {
   "cell_type": "code",
   "execution_count": 131,
   "id": "8622c48c-a885-4905-acf1-85780ab45fef",
   "metadata": {
    "tags": []
   },
   "outputs": [
    {
     "name": "stdout",
     "output_type": "stream",
     "text": [
      "634 ns ± 2.74 ns per loop (mean ± std. dev. of 7 runs, 1,000,000 loops each)\n"
     ]
    }
   ],
   "source": [
    "%%timeit\n",
    "lead = max(lens.items(), key=operator.itemgetter(1))[0]"
   ]
  },
  {
   "cell_type": "code",
   "execution_count": 132,
   "id": "14d06789-4e0d-4ebf-82a8-93124287c6c8",
   "metadata": {
    "tags": []
   },
   "outputs": [
    {
     "name": "stdout",
     "output_type": "stream",
     "text": [
      "c\n"
     ]
    }
   ],
   "source": [
    "print(lead)"
   ]
  },
  {
   "cell_type": "markdown",
   "id": "dcee0663",
   "metadata": {},
   "source": [
    "# IV Excluding 'sp' and 'uncultured' organisms"
   ]
  },
  {
   "cell_type": "code",
   "execution_count": 99,
   "id": "5a7640ed",
   "metadata": {},
   "outputs": [
    {
     "name": "stdout",
     "output_type": "stream",
     "text": [
      "CPU times: user 2.02 s, sys: 695 ms, total: 2.71 s\n",
      "Wall time: 3 s\n"
     ]
    }
   ],
   "source": [
    "%%time\n",
    "i = 0\n",
    "exclude_names = set()\n",
    "leaders = set(species_leader_sprot.values()).union(set(species_leader_uniprot.values()))\n",
    "\n",
    "for k in leaders:\n",
    "    name = list(ncbi.get_taxid_translator([k]).values())[0]\n",
    "    if 'sp.' in name:\n",
    "        if name.split(' ')[1] == 'sp.':\n",
    "            exclude_names.update([k])\n",
    "            i+=1\n",
    "    if name.startswith('uncultured'):\n",
    "        exclude_names.update([k])"
   ]
  },
  {
   "cell_type": "code",
   "execution_count": null,
   "id": "58e99bd0",
   "metadata": {},
   "outputs": [],
   "source": [
    "path_to_exclude_names = ''\n",
    "pickle.dump(exclude_names, \n",
    "            open(path_to_exclude_names, 'wb'), \n",
    "            protocol=pickle.HIGHEST_PROTOCOL)"
   ]
  }
 ],
 "metadata": {
  "kernelspec": {
   "display_name": "Python 3 (ipykernel)",
   "language": "python",
   "name": "python3"
  },
  "language_info": {
   "codemirror_mode": {
    "name": "ipython",
    "version": 3
   },
   "file_extension": ".py",
   "mimetype": "text/x-python",
   "name": "python",
   "nbconvert_exporter": "python",
   "pygments_lexer": "ipython3",
   "version": "3.10.9"
  }
 },
 "nbformat": 4,
 "nbformat_minor": 5
}
